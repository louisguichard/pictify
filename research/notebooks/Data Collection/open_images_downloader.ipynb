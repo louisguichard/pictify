{
 "cells": [
  {
   "cell_type": "markdown",
   "metadata": {},
   "source": [
    "# Open Images Dataset"
   ]
  },
  {
   "cell_type": "markdown",
   "metadata": {},
   "source": [
    "*This notebook is to download images from the Open Images dataset.*"
   ]
  },
  {
   "cell_type": "code",
   "execution_count": 1,
   "metadata": {},
   "outputs": [],
   "source": [
    "import os\n",
    "import requests\n",
    "from io import BytesIO\n",
    "import json\n",
    "from tqdm import tqdm\n",
    "import pandas as pd\n",
    "from PIL import Image\n",
    "\n",
    "pd.set_option('display.max_colwidth', None)"
   ]
  },
  {
   "cell_type": "markdown",
   "metadata": {},
   "source": [
    "## 1. Get image URLs"
   ]
  },
  {
   "cell_type": "code",
   "execution_count": 2,
   "metadata": {},
   "outputs": [
    {
     "data": {
      "text/html": [
       "<div>\n",
       "<style scoped>\n",
       "    .dataframe tbody tr th:only-of-type {\n",
       "        vertical-align: middle;\n",
       "    }\n",
       "\n",
       "    .dataframe tbody tr th {\n",
       "        vertical-align: top;\n",
       "    }\n",
       "\n",
       "    .dataframe thead th {\n",
       "        text-align: right;\n",
       "    }\n",
       "</style>\n",
       "<table border=\"1\" class=\"dataframe\">\n",
       "  <thead>\n",
       "    <tr style=\"text-align: right;\">\n",
       "      <th></th>\n",
       "      <th>image_id</th>\n",
       "      <th>image_url</th>\n",
       "    </tr>\n",
       "  </thead>\n",
       "  <tbody>\n",
       "    <tr>\n",
       "      <th>0</th>\n",
       "      <td>4fa8054781a4c382</td>\n",
       "      <td>https://farm3.staticflickr.com/5310/5898076654_51085e157c_o.jpg</td>\n",
       "    </tr>\n",
       "    <tr>\n",
       "      <th>1</th>\n",
       "      <td>d05c3e451f79174d</td>\n",
       "      <td>https://c6.staticflickr.com/8/7375/13791738583_ceb93ee070_o.jpg</td>\n",
       "    </tr>\n",
       "    <tr>\n",
       "      <th>2</th>\n",
       "      <td>5bde9ad21e82deed</td>\n",
       "      <td>https://c6.staticflickr.com/1/223/495658260_8947fc0be8_o.jpg</td>\n",
       "    </tr>\n",
       "    <tr>\n",
       "      <th>3</th>\n",
       "      <td>b37f763ae67d0888</td>\n",
       "      <td>https://c1.staticflickr.com/1/67/197493648_628a7cb2ee_o.jpg</td>\n",
       "    </tr>\n",
       "    <tr>\n",
       "      <th>4</th>\n",
       "      <td>3231e75bd7120b7a</td>\n",
       "      <td>https://c3.staticflickr.com/4/3654/3619297168_9d7ec37be3_o.jpg</td>\n",
       "    </tr>\n",
       "    <tr>\n",
       "      <th>...</th>\n",
       "      <td>...</td>\n",
       "      <td>...</td>\n",
       "    </tr>\n",
       "    <tr>\n",
       "      <th>7337072</th>\n",
       "      <td>319fbd7d6fad9993</td>\n",
       "      <td>https://farm4.staticflickr.com/8663/16074403674_becd15c9a4_o.jpg</td>\n",
       "    </tr>\n",
       "    <tr>\n",
       "      <th>7337073</th>\n",
       "      <td>318b6e4322650cf3</td>\n",
       "      <td>https://farm4.staticflickr.com/4080/4803266278_b98b6eefed_o.jpg</td>\n",
       "    </tr>\n",
       "    <tr>\n",
       "      <th>7337074</th>\n",
       "      <td>757bac4b7c064925</td>\n",
       "      <td>https://farm6.staticflickr.com/3835/15022727040_f6b680d8bc_o.jpg</td>\n",
       "    </tr>\n",
       "    <tr>\n",
       "      <th>7337075</th>\n",
       "      <td>8a23c798ea665d15</td>\n",
       "      <td>https://farm6.staticflickr.com/7180/6973157007_6d633ffef3_o.jpg</td>\n",
       "    </tr>\n",
       "    <tr>\n",
       "      <th>7337076</th>\n",
       "      <td>90d0031f89de28ee</td>\n",
       "      <td>https://c7.staticflickr.com/1/23/27246359_825538fa3e_o.jpg</td>\n",
       "    </tr>\n",
       "  </tbody>\n",
       "</table>\n",
       "<p>7337077 rows × 2 columns</p>\n",
       "</div>"
      ],
      "text/plain": [
       "                 image_id  \\\n",
       "0        4fa8054781a4c382   \n",
       "1        d05c3e451f79174d   \n",
       "2        5bde9ad21e82deed   \n",
       "3        b37f763ae67d0888   \n",
       "4        3231e75bd7120b7a   \n",
       "...                   ...   \n",
       "7337072  319fbd7d6fad9993   \n",
       "7337073  318b6e4322650cf3   \n",
       "7337074  757bac4b7c064925   \n",
       "7337075  8a23c798ea665d15   \n",
       "7337076  90d0031f89de28ee   \n",
       "\n",
       "                                                                image_url  \n",
       "0         https://farm3.staticflickr.com/5310/5898076654_51085e157c_o.jpg  \n",
       "1         https://c6.staticflickr.com/8/7375/13791738583_ceb93ee070_o.jpg  \n",
       "2            https://c6.staticflickr.com/1/223/495658260_8947fc0be8_o.jpg  \n",
       "3             https://c1.staticflickr.com/1/67/197493648_628a7cb2ee_o.jpg  \n",
       "4          https://c3.staticflickr.com/4/3654/3619297168_9d7ec37be3_o.jpg  \n",
       "...                                                                   ...  \n",
       "7337072  https://farm4.staticflickr.com/8663/16074403674_becd15c9a4_o.jpg  \n",
       "7337073   https://farm4.staticflickr.com/4080/4803266278_b98b6eefed_o.jpg  \n",
       "7337074  https://farm6.staticflickr.com/3835/15022727040_f6b680d8bc_o.jpg  \n",
       "7337075   https://farm6.staticflickr.com/7180/6973157007_6d633ffef3_o.jpg  \n",
       "7337076        https://c7.staticflickr.com/1/23/27246359_825538fa3e_o.jpg  \n",
       "\n",
       "[7337077 rows x 2 columns]"
      ]
     },
     "execution_count": 2,
     "metadata": {},
     "output_type": "execute_result"
    }
   ],
   "source": [
    "images = pd.read_csv(\"https://storage.googleapis.com/openimages/v6/oidv6-train-images-with-labels-with-rotation.csv\")\n",
    "\n",
    "images = images[[\"ImageID\", \"OriginalURL\"]]\n",
    "images.columns = [\"image_id\", \"image_url\"]\n",
    "\n",
    "images"
   ]
  },
  {
   "cell_type": "code",
   "execution_count": 3,
   "metadata": {},
   "outputs": [
    {
     "data": {
      "text/html": [
       "<div>\n",
       "<style scoped>\n",
       "    .dataframe tbody tr th:only-of-type {\n",
       "        vertical-align: middle;\n",
       "    }\n",
       "\n",
       "    .dataframe tbody tr th {\n",
       "        vertical-align: top;\n",
       "    }\n",
       "\n",
       "    .dataframe thead th {\n",
       "        text-align: right;\n",
       "    }\n",
       "</style>\n",
       "<table border=\"1\" class=\"dataframe\">\n",
       "  <thead>\n",
       "    <tr style=\"text-align: right;\">\n",
       "      <th></th>\n",
       "      <th>image_id</th>\n",
       "      <th>label_id</th>\n",
       "    </tr>\n",
       "  </thead>\n",
       "  <tbody>\n",
       "    <tr>\n",
       "      <th>5</th>\n",
       "      <td>000002b66c9c498e</td>\n",
       "      <td>/m/011xdj</td>\n",
       "    </tr>\n",
       "    <tr>\n",
       "      <th>11</th>\n",
       "      <td>000002b66c9c498e</td>\n",
       "      <td>/m/012mj</td>\n",
       "    </tr>\n",
       "    <tr>\n",
       "      <th>15</th>\n",
       "      <td>000002b66c9c498e</td>\n",
       "      <td>/m/012yh1</td>\n",
       "    </tr>\n",
       "    <tr>\n",
       "      <th>27</th>\n",
       "      <td>000002b66c9c498e</td>\n",
       "      <td>/m/014sv8</td>\n",
       "    </tr>\n",
       "    <tr>\n",
       "      <th>31</th>\n",
       "      <td>000002b66c9c498e</td>\n",
       "      <td>/m/015c4z</td>\n",
       "    </tr>\n",
       "    <tr>\n",
       "      <th>...</th>\n",
       "      <td>...</td>\n",
       "      <td>...</td>\n",
       "    </tr>\n",
       "    <tr>\n",
       "      <th>58783029</th>\n",
       "      <td>fffffdaec951185d</td>\n",
       "      <td>/m/01g317</td>\n",
       "    </tr>\n",
       "    <tr>\n",
       "      <th>58783030</th>\n",
       "      <td>fffffdaec951185d</td>\n",
       "      <td>/m/01xyhv</td>\n",
       "    </tr>\n",
       "    <tr>\n",
       "      <th>58783031</th>\n",
       "      <td>fffffdaec951185d</td>\n",
       "      <td>/m/03bt1vf</td>\n",
       "    </tr>\n",
       "    <tr>\n",
       "      <th>58783032</th>\n",
       "      <td>fffffdaec951185d</td>\n",
       "      <td>/m/09j2d</td>\n",
       "    </tr>\n",
       "    <tr>\n",
       "      <th>58783033</th>\n",
       "      <td>fffffdaec951185d</td>\n",
       "      <td>/m/0dzct</td>\n",
       "    </tr>\n",
       "  </tbody>\n",
       "</table>\n",
       "<p>21144175 rows × 2 columns</p>\n",
       "</div>"
      ],
      "text/plain": [
       "                  image_id    label_id\n",
       "5         000002b66c9c498e   /m/011xdj\n",
       "11        000002b66c9c498e    /m/012mj\n",
       "15        000002b66c9c498e   /m/012yh1\n",
       "27        000002b66c9c498e   /m/014sv8\n",
       "31        000002b66c9c498e   /m/015c4z\n",
       "...                    ...         ...\n",
       "58783029  fffffdaec951185d   /m/01g317\n",
       "58783030  fffffdaec951185d   /m/01xyhv\n",
       "58783031  fffffdaec951185d  /m/03bt1vf\n",
       "58783032  fffffdaec951185d    /m/09j2d\n",
       "58783033  fffffdaec951185d    /m/0dzct\n",
       "\n",
       "[21144175 rows x 2 columns]"
      ]
     },
     "execution_count": 3,
     "metadata": {},
     "output_type": "execute_result"
    }
   ],
   "source": [
    "labels = pd.read_csv(\"https://storage.googleapis.com/openimages/v7/oidv7-train-annotations-human-imagelabels.csv\")\n",
    "\n",
    "labels.columns = [\"image_id\", \"source\", \"label_id\", \"confidence\"]\n",
    "labels = labels.loc[\n",
    "    labels[\"confidence\"] == 1,  # keep only human verified labels\n",
    "    [\"image_id\", \"label_id\"]\n",
    "]\n",
    "\n",
    "labels"
   ]
  },
  {
   "cell_type": "code",
   "execution_count": 4,
   "metadata": {},
   "outputs": [
    {
     "data": {
      "text/html": [
       "<div>\n",
       "<style scoped>\n",
       "    .dataframe tbody tr th:only-of-type {\n",
       "        vertical-align: middle;\n",
       "    }\n",
       "\n",
       "    .dataframe tbody tr th {\n",
       "        vertical-align: top;\n",
       "    }\n",
       "\n",
       "    .dataframe thead th {\n",
       "        text-align: right;\n",
       "    }\n",
       "</style>\n",
       "<table border=\"1\" class=\"dataframe\">\n",
       "  <thead>\n",
       "    <tr style=\"text-align: right;\">\n",
       "      <th></th>\n",
       "      <th>label_id</th>\n",
       "      <th>label_name</th>\n",
       "    </tr>\n",
       "  </thead>\n",
       "  <tbody>\n",
       "    <tr>\n",
       "      <th>0</th>\n",
       "      <td>/m/0c4936</td>\n",
       "      <td>'Nduja</td>\n",
       "    </tr>\n",
       "    <tr>\n",
       "      <th>1</th>\n",
       "      <td>/m/06w6y06</td>\n",
       "      <td>10 cane</td>\n",
       "    </tr>\n",
       "    <tr>\n",
       "      <th>2</th>\n",
       "      <td>/m/079zcf</td>\n",
       "      <td>100 metres hurdles</td>\n",
       "    </tr>\n",
       "    <tr>\n",
       "      <th>3</th>\n",
       "      <td>/m/02pv3hz</td>\n",
       "      <td>100plus</td>\n",
       "    </tr>\n",
       "    <tr>\n",
       "      <th>4</th>\n",
       "      <td>/m/0bb154</td>\n",
       "      <td>110 metres hurdles</td>\n",
       "    </tr>\n",
       "    <tr>\n",
       "      <th>...</th>\n",
       "      <td>...</td>\n",
       "      <td>...</td>\n",
       "    </tr>\n",
       "    <tr>\n",
       "      <th>20926</th>\n",
       "      <td>/m/05_5x82</td>\n",
       "      <td>Škoda rapid</td>\n",
       "    </tr>\n",
       "    <tr>\n",
       "      <th>20927</th>\n",
       "      <td>/m/0d96wb</td>\n",
       "      <td>Škoda roomster</td>\n",
       "    </tr>\n",
       "    <tr>\n",
       "      <th>20928</th>\n",
       "      <td>/m/03vql3</td>\n",
       "      <td>Škoda superb</td>\n",
       "    </tr>\n",
       "    <tr>\n",
       "      <th>20929</th>\n",
       "      <td>/m/05_5ppm</td>\n",
       "      <td>Škoda yeti</td>\n",
       "    </tr>\n",
       "    <tr>\n",
       "      <th>20930</th>\n",
       "      <td>/m/02sjdf</td>\n",
       "      <td>Żubrówka</td>\n",
       "    </tr>\n",
       "  </tbody>\n",
       "</table>\n",
       "<p>20931 rows × 2 columns</p>\n",
       "</div>"
      ],
      "text/plain": [
       "         label_id          label_name\n",
       "0       /m/0c4936              'Nduja\n",
       "1      /m/06w6y06             10 cane\n",
       "2       /m/079zcf  100 metres hurdles\n",
       "3      /m/02pv3hz             100plus\n",
       "4       /m/0bb154  110 metres hurdles\n",
       "...           ...                 ...\n",
       "20926  /m/05_5x82         Škoda rapid\n",
       "20927   /m/0d96wb      Škoda roomster\n",
       "20928   /m/03vql3        Škoda superb\n",
       "20929  /m/05_5ppm          Škoda yeti\n",
       "20930   /m/02sjdf            Żubrówka\n",
       "\n",
       "[20931 rows x 2 columns]"
      ]
     },
     "execution_count": 4,
     "metadata": {},
     "output_type": "execute_result"
    }
   ],
   "source": [
    "label_names = pd.read_csv(\"https://storage.googleapis.com/openimages/v7/oidv7-class-descriptions.csv\")\n",
    "\n",
    "label_names.columns = [\"label_id\", \"label_name\"]\n",
    "\n",
    "label_names"
   ]
  },
  {
   "cell_type": "markdown",
   "metadata": {},
   "source": [
    "### Merges"
   ]
  },
  {
   "cell_type": "code",
   "execution_count": 5,
   "metadata": {},
   "outputs": [
    {
     "data": {
      "text/html": [
       "<div>\n",
       "<style scoped>\n",
       "    .dataframe tbody tr th:only-of-type {\n",
       "        vertical-align: middle;\n",
       "    }\n",
       "\n",
       "    .dataframe tbody tr th {\n",
       "        vertical-align: top;\n",
       "    }\n",
       "\n",
       "    .dataframe thead th {\n",
       "        text-align: right;\n",
       "    }\n",
       "</style>\n",
       "<table border=\"1\" class=\"dataframe\">\n",
       "  <thead>\n",
       "    <tr style=\"text-align: right;\">\n",
       "      <th></th>\n",
       "      <th>image_url</th>\n",
       "      <th>label_name</th>\n",
       "    </tr>\n",
       "  </thead>\n",
       "  <tbody>\n",
       "    <tr>\n",
       "      <th>0</th>\n",
       "      <td>https://farm3.staticflickr.com/5310/5898076654_51085e157c_o.jpg</td>\n",
       "      <td>Adult</td>\n",
       "    </tr>\n",
       "    <tr>\n",
       "      <th>1</th>\n",
       "      <td>https://farm3.staticflickr.com/5310/5898076654_51085e157c_o.jpg</td>\n",
       "      <td>Lighting</td>\n",
       "    </tr>\n",
       "    <tr>\n",
       "      <th>2</th>\n",
       "      <td>https://farm3.staticflickr.com/5310/5898076654_51085e157c_o.jpg</td>\n",
       "      <td>Person</td>\n",
       "    </tr>\n",
       "    <tr>\n",
       "      <th>3</th>\n",
       "      <td>https://farm3.staticflickr.com/5310/5898076654_51085e157c_o.jpg</td>\n",
       "      <td>Event</td>\n",
       "    </tr>\n",
       "    <tr>\n",
       "      <th>4</th>\n",
       "      <td>https://farm3.staticflickr.com/5310/5898076654_51085e157c_o.jpg</td>\n",
       "      <td>Temple (Body Part)</td>\n",
       "    </tr>\n",
       "    <tr>\n",
       "      <th>...</th>\n",
       "      <td>...</td>\n",
       "      <td>...</td>\n",
       "    </tr>\n",
       "    <tr>\n",
       "      <th>21144170</th>\n",
       "      <td>https://farm6.staticflickr.com/7180/6973157007_6d633ffef3_o.jpg</td>\n",
       "      <td>Dance</td>\n",
       "    </tr>\n",
       "    <tr>\n",
       "      <th>21144171</th>\n",
       "      <td>https://c7.staticflickr.com/1/23/27246359_825538fa3e_o.jpg</td>\n",
       "      <td>Sky</td>\n",
       "    </tr>\n",
       "    <tr>\n",
       "      <th>21144172</th>\n",
       "      <td>https://c7.staticflickr.com/1/23/27246359_825538fa3e_o.jpg</td>\n",
       "      <td>Boat</td>\n",
       "    </tr>\n",
       "    <tr>\n",
       "      <th>21144173</th>\n",
       "      <td>https://c7.staticflickr.com/1/23/27246359_825538fa3e_o.jpg</td>\n",
       "      <td>Lake</td>\n",
       "    </tr>\n",
       "    <tr>\n",
       "      <th>21144174</th>\n",
       "      <td>https://c7.staticflickr.com/1/23/27246359_825538fa3e_o.jpg</td>\n",
       "      <td>Ship</td>\n",
       "    </tr>\n",
       "  </tbody>\n",
       "</table>\n",
       "<p>21144175 rows × 2 columns</p>\n",
       "</div>"
      ],
      "text/plain": [
       "                                                                image_url  \\\n",
       "0         https://farm3.staticflickr.com/5310/5898076654_51085e157c_o.jpg   \n",
       "1         https://farm3.staticflickr.com/5310/5898076654_51085e157c_o.jpg   \n",
       "2         https://farm3.staticflickr.com/5310/5898076654_51085e157c_o.jpg   \n",
       "3         https://farm3.staticflickr.com/5310/5898076654_51085e157c_o.jpg   \n",
       "4         https://farm3.staticflickr.com/5310/5898076654_51085e157c_o.jpg   \n",
       "...                                                                   ...   \n",
       "21144170  https://farm6.staticflickr.com/7180/6973157007_6d633ffef3_o.jpg   \n",
       "21144171       https://c7.staticflickr.com/1/23/27246359_825538fa3e_o.jpg   \n",
       "21144172       https://c7.staticflickr.com/1/23/27246359_825538fa3e_o.jpg   \n",
       "21144173       https://c7.staticflickr.com/1/23/27246359_825538fa3e_o.jpg   \n",
       "21144174       https://c7.staticflickr.com/1/23/27246359_825538fa3e_o.jpg   \n",
       "\n",
       "                  label_name  \n",
       "0                      Adult  \n",
       "1                   Lighting  \n",
       "2                     Person  \n",
       "3                      Event  \n",
       "4         Temple (Body Part)  \n",
       "...                      ...  \n",
       "21144170               Dance  \n",
       "21144171                 Sky  \n",
       "21144172                Boat  \n",
       "21144173                Lake  \n",
       "21144174                Ship  \n",
       "\n",
       "[21144175 rows x 2 columns]"
      ]
     },
     "execution_count": 5,
     "metadata": {},
     "output_type": "execute_result"
    }
   ],
   "source": [
    "labels = pd.merge(\n",
    "    labels,\n",
    "    label_names,\n",
    "    on=\"label_id\",\n",
    "    how=\"inner\"\n",
    ")\n",
    "\n",
    "images = pd.merge(\n",
    "    images,\n",
    "    labels,\n",
    "    on=\"image_id\",\n",
    "    how=\"inner\"\n",
    ")\n",
    "\n",
    "images = images[[\"image_url\", \"label_name\"]]\n",
    "# images = images.drop_duplicates(subset=[\"image_url\"])\n",
    "\n",
    "images"
   ]
  },
  {
   "cell_type": "code",
   "execution_count": 6,
   "metadata": {},
   "outputs": [],
   "source": [
    "images.to_csv(\"open_images.csv\", index=False)"
   ]
  },
  {
   "cell_type": "markdown",
   "metadata": {},
   "source": [
    "## 2. Download images"
   ]
  },
  {
   "cell_type": "code",
   "execution_count": 7,
   "metadata": {},
   "outputs": [],
   "source": [
    "images = pd.read_csv(\"open_images.csv\")"
   ]
  },
  {
   "cell_type": "code",
   "execution_count": 8,
   "metadata": {},
   "outputs": [],
   "source": [
    "def download_image(image_url, image_name, destination):\n",
    "    response = requests.get(image_url)\n",
    "    if response.status_code == 200:\n",
    "        image = Image.open(BytesIO(response.content))\n",
    "        resized_image = image.resize((500, 500))\n",
    "        resized_image.save(destination + image_name)"
   ]
  },
  {
   "cell_type": "code",
   "execution_count": 9,
   "metadata": {},
   "outputs": [],
   "source": [
    "def download_images_with_label(label, limit, destination):\n",
    "    selected_images = images[images[\"label_name\"] == label]\n",
    "    print(f\"- {label}: {len(selected_images)} images found\", end=\" - \")\n",
    "    if len(selected_images) > limit:\n",
    "        selected_images = selected_images.sample(limit)\n",
    "    label_name = label.lower().replace(\" \", \"_\").replace(\"-\", \"_\")\n",
    "    image_idx = 0\n",
    "    for image_url in tqdm(selected_images[\"image_url\"]):\n",
    "        try:\n",
    "            download_image(image_url, f\"{label_name}_{image_idx}.jpg\", destination)\n",
    "            image_idx += 1\n",
    "        except:\n",
    "            pass\n",
    "    print(f\"{image_idx} images downloaded.\")"
   ]
  },
  {
   "cell_type": "code",
   "execution_count": 10,
   "metadata": {},
   "outputs": [
    {
     "name": "stdout",
     "output_type": "stream",
     "text": [
      "Number of classes: 30\n",
      "Number of search keywords: 91\n"
     ]
    }
   ],
   "source": [
    "with open(\"keywords/open_images_labels.json\") as f:\n",
    "    keywords = json.load(f)\n",
    "\n",
    "print(f\"Number of classes: {len(keywords)}\")\n",
    "print(f\"Number of search keywords: {len([search for category in keywords.values() for search in category])}\")"
   ]
  },
  {
   "cell_type": "code",
   "execution_count": 11,
   "metadata": {},
   "outputs": [
    {
     "name": "stdout",
     "output_type": "stream",
     "text": [
      "\n",
      "¤ ¤ ¤ ¤ ¤ Class art ¤ ¤ ¤ ¤ ¤\n",
      "- Art exhibition: 469 images found - "
     ]
    },
    {
     "name": "stderr",
     "output_type": "stream",
     "text": [
      "100%|██████████| 469/469 [01:38<00:00,  4.78it/s]\n"
     ]
    },
    {
     "name": "stdout",
     "output_type": "stream",
     "text": [
      "469 images downloaded.\n",
      "- Paint tools: 134 images found - "
     ]
    },
    {
     "name": "stderr",
     "output_type": "stream",
     "text": [
      "100%|██████████| 134/134 [00:26<00:00,  5.00it/s]\n"
     ]
    },
    {
     "name": "stdout",
     "output_type": "stream",
     "text": [
      "134 images downloaded.\n",
      "\n",
      "¤ ¤ ¤ ¤ ¤ Class barbecue ¤ ¤ ¤ ¤ ¤\n",
      "- Barbecue: 612 images found - "
     ]
    },
    {
     "name": "stderr",
     "output_type": "stream",
     "text": [
      "100%|██████████| 612/612 [02:01<00:00,  5.05it/s]\n"
     ]
    },
    {
     "name": "stdout",
     "output_type": "stream",
     "text": [
      "610 images downloaded.\n",
      "- Barbecue grill: 534 images found - "
     ]
    },
    {
     "name": "stderr",
     "output_type": "stream",
     "text": [
      "100%|██████████| 534/534 [06:32<00:00,  1.36it/s]\n"
     ]
    },
    {
     "name": "stdout",
     "output_type": "stream",
     "text": [
      "532 images downloaded.\n",
      "\n",
      "¤ ¤ ¤ ¤ ¤ Class bathroom ¤ ¤ ¤ ¤ ¤\n",
      "- Bathroom: 14598 images found - "
     ]
    },
    {
     "name": "stderr",
     "output_type": "stream",
     "text": [
      "100%|██████████| 2000/2000 [20:48<00:00,  1.60it/s] \n"
     ]
    },
    {
     "name": "stdout",
     "output_type": "stream",
     "text": [
      "1998 images downloaded.\n",
      "- Bathroom accessory: 878 images found - "
     ]
    },
    {
     "name": "stderr",
     "output_type": "stream",
     "text": [
      "100%|██████████| 878/878 [02:33<00:00,  5.71it/s]\n"
     ]
    },
    {
     "name": "stdout",
     "output_type": "stream",
     "text": [
      "874 images downloaded.\n",
      "- Bathroom sink: 465 images found - "
     ]
    },
    {
     "name": "stderr",
     "output_type": "stream",
     "text": [
      "100%|██████████| 465/465 [01:24<00:00,  5.50it/s]\n"
     ]
    },
    {
     "name": "stdout",
     "output_type": "stream",
     "text": [
      "465 images downloaded.\n",
      "- Shower: 2482 images found - "
     ]
    },
    {
     "name": "stderr",
     "output_type": "stream",
     "text": [
      "100%|██████████| 2000/2000 [13:37<00:00,  2.45it/s]\n"
     ]
    },
    {
     "name": "stdout",
     "output_type": "stream",
     "text": [
      "1993 images downloaded.\n",
      "\n",
      "¤ ¤ ¤ ¤ ¤ Class beach ¤ ¤ ¤ ¤ ¤\n",
      "- Beach: 241473 images found - "
     ]
    },
    {
     "name": "stderr",
     "output_type": "stream",
     "text": [
      " 29%|██▉       | 584/2000 [07:15<16:21,  1.44it/s]/Users/louisguichard/anaconda3/envs/pictify_env/lib/python3.10/site-packages/PIL/Image.py:3157: DecompressionBombWarning: Image size (126915756 pixels) exceeds limit of 89478485 pixels, could be decompression bomb DOS attack.\n",
      "  warnings.warn(\n",
      " 69%|██████▊   | 1374/2000 [16:44<07:52,  1.32it/s]/Users/louisguichard/anaconda3/envs/pictify_env/lib/python3.10/site-packages/PIL/JpegImagePlugin.py:834: UserWarning: Image appears to be a malformed MPO file, it will be interpreted as a base JPEG file\n",
      "  warnings.warn(\n",
      "100%|██████████| 2000/2000 [24:26<00:00,  1.36it/s]\n"
     ]
    },
    {
     "name": "stdout",
     "output_type": "stream",
     "text": [
      "1996 images downloaded.\n",
      "- Beach towel: 109 images found - "
     ]
    },
    {
     "name": "stderr",
     "output_type": "stream",
     "text": [
      "100%|██████████| 109/109 [00:21<00:00,  5.19it/s]\n"
     ]
    },
    {
     "name": "stdout",
     "output_type": "stream",
     "text": [
      "109 images downloaded.\n",
      "\n",
      "¤ ¤ ¤ ¤ ¤ Class bedroom ¤ ¤ ¤ ¤ ¤\n",
      "- Bed: 4417 images found - "
     ]
    },
    {
     "name": "stderr",
     "output_type": "stream",
     "text": [
      "100%|██████████| 2000/2000 [11:20<00:00,  2.94it/s]\n"
     ]
    },
    {
     "name": "stdout",
     "output_type": "stream",
     "text": [
      "1997 images downloaded.\n",
      "- Bedroom: 691 images found - "
     ]
    },
    {
     "name": "stderr",
     "output_type": "stream",
     "text": [
      "100%|██████████| 691/691 [02:08<00:00,  5.36it/s]\n"
     ]
    },
    {
     "name": "stdout",
     "output_type": "stream",
     "text": [
      "690 images downloaded.\n",
      "- Sleep: 538 images found - "
     ]
    },
    {
     "name": "stderr",
     "output_type": "stream",
     "text": [
      "100%|██████████| 538/538 [01:32<00:00,  5.81it/s]\n"
     ]
    },
    {
     "name": "stdout",
     "output_type": "stream",
     "text": [
      "537 images downloaded.\n",
      "\n",
      "¤ ¤ ¤ ¤ ¤ Class beer ¤ ¤ ¤ ¤ ¤\n",
      "- Beer: 7917 images found - "
     ]
    },
    {
     "name": "stderr",
     "output_type": "stream",
     "text": [
      "100%|██████████| 2000/2000 [16:34<00:00,  2.01it/s]\n"
     ]
    },
    {
     "name": "stdout",
     "output_type": "stream",
     "text": [
      "1997 images downloaded.\n",
      "- Beer glass: 791 images found - "
     ]
    },
    {
     "name": "stderr",
     "output_type": "stream",
     "text": [
      "100%|██████████| 791/791 [02:26<00:00,  5.39it/s]\n"
     ]
    },
    {
     "name": "stdout",
     "output_type": "stream",
     "text": [
      "790 images downloaded.\n",
      "- Beer bottle: 625 images found - "
     ]
    },
    {
     "name": "stderr",
     "output_type": "stream",
     "text": [
      "100%|██████████| 625/625 [02:01<00:00,  5.16it/s]\n"
     ]
    },
    {
     "name": "stdout",
     "output_type": "stream",
     "text": [
      "624 images downloaded.\n",
      "\n",
      "¤ ¤ ¤ ¤ ¤ Class board_games ¤ ¤ ¤ ¤ ¤\n",
      "- Board game: 837 images found - "
     ]
    },
    {
     "name": "stderr",
     "output_type": "stream",
     "text": [
      "100%|██████████| 837/837 [03:21<00:00,  4.16it/s]\n"
     ]
    },
    {
     "name": "stdout",
     "output_type": "stream",
     "text": [
      "836 images downloaded.\n",
      "- Card game: 407 images found - "
     ]
    },
    {
     "name": "stderr",
     "output_type": "stream",
     "text": [
      "100%|██████████| 407/407 [01:32<00:00,  4.40it/s]\n"
     ]
    },
    {
     "name": "stdout",
     "output_type": "stream",
     "text": [
      "406 images downloaded.\n",
      "\n",
      "¤ ¤ ¤ ¤ ¤ Class cleaning ¤ ¤ ¤ ¤ ¤\n",
      "- Cleanliness: 766 images found - "
     ]
    },
    {
     "name": "stderr",
     "output_type": "stream",
     "text": [
      "100%|██████████| 766/766 [03:34<00:00,  3.57it/s]\n"
     ]
    },
    {
     "name": "stdout",
     "output_type": "stream",
     "text": [
      "765 images downloaded.\n",
      "- Household cleaning supply: 205 images found - "
     ]
    },
    {
     "name": "stderr",
     "output_type": "stream",
     "text": [
      "100%|██████████| 205/205 [01:54<00:00,  1.79it/s]\n"
     ]
    },
    {
     "name": "stdout",
     "output_type": "stream",
     "text": [
      "205 images downloaded.\n",
      "- Vacuum cleaner: 176 images found - "
     ]
    },
    {
     "name": "stderr",
     "output_type": "stream",
     "text": [
      "100%|██████████| 176/176 [04:58<00:00,  1.70s/it]\n"
     ]
    },
    {
     "name": "stdout",
     "output_type": "stream",
     "text": [
      "176 images downloaded.\n",
      "- Cleaner: 160 images found - "
     ]
    },
    {
     "name": "stderr",
     "output_type": "stream",
     "text": [
      "100%|██████████| 160/160 [03:04<00:00,  1.16s/it]\n"
     ]
    },
    {
     "name": "stdout",
     "output_type": "stream",
     "text": [
      "160 images downloaded.\n",
      "\n",
      "¤ ¤ ¤ ¤ ¤ Class coffee ¤ ¤ ¤ ¤ ¤\n",
      "- Coffee cup: 4355 images found - "
     ]
    },
    {
     "name": "stderr",
     "output_type": "stream",
     "text": [
      "100%|██████████| 2000/2000 [19:58<00:00,  1.67it/s] \n"
     ]
    },
    {
     "name": "stdout",
     "output_type": "stream",
     "text": [
      "2000 images downloaded.\n",
      "- Coffee (drink): 2394 images found - "
     ]
    },
    {
     "name": "stderr",
     "output_type": "stream",
     "text": [
      "100%|██████████| 2000/2000 [20:32<00:00,  1.62it/s]  \n"
     ]
    },
    {
     "name": "stdout",
     "output_type": "stream",
     "text": [
      "1999 images downloaded.\n",
      "- Tea: 1341 images found - "
     ]
    },
    {
     "name": "stderr",
     "output_type": "stream",
     "text": [
      "100%|██████████| 1341/1341 [04:57<00:00,  4.51it/s]\n"
     ]
    },
    {
     "name": "stdout",
     "output_type": "stream",
     "text": [
      "1338 images downloaded.\n",
      "- Drip coffee maker: 134 images found - "
     ]
    },
    {
     "name": "stderr",
     "output_type": "stream",
     "text": [
      "100%|██████████| 134/134 [00:27<00:00,  4.84it/s]\n"
     ]
    },
    {
     "name": "stdout",
     "output_type": "stream",
     "text": [
      "134 images downloaded.\n",
      "\n",
      "¤ ¤ ¤ ¤ ¤ Class cooking ¤ ¤ ¤ ¤ ¤\n",
      "- Cooking: 966 images found - "
     ]
    },
    {
     "name": "stderr",
     "output_type": "stream",
     "text": [
      "100%|██████████| 966/966 [03:30<00:00,  4.59it/s]\n"
     ]
    },
    {
     "name": "stdout",
     "output_type": "stream",
     "text": [
      "960 images downloaded.\n",
      "- Cookware and bakeware: 614 images found - "
     ]
    },
    {
     "name": "stderr",
     "output_type": "stream",
     "text": [
      "100%|██████████| 614/614 [02:11<00:00,  4.68it/s]\n"
     ]
    },
    {
     "name": "stdout",
     "output_type": "stream",
     "text": [
      "612 images downloaded.\n",
      "- Cook: 556 images found - "
     ]
    },
    {
     "name": "stderr",
     "output_type": "stream",
     "text": [
      "100%|██████████| 556/556 [02:29<00:00,  3.71it/s]\n"
     ]
    },
    {
     "name": "stdout",
     "output_type": "stream",
     "text": [
      "556 images downloaded.\n",
      "- Kitchen appliance: 2338 images found - "
     ]
    },
    {
     "name": "stderr",
     "output_type": "stream",
     "text": [
      "100%|██████████| 2000/2000 [09:35<00:00,  3.47it/s]  \n"
     ]
    },
    {
     "name": "stdout",
     "output_type": "stream",
     "text": [
      "1999 images downloaded.\n",
      "- Kitchen utensil: 1680 images found - "
     ]
    },
    {
     "name": "stderr",
     "output_type": "stream",
     "text": [
      "100%|██████████| 1680/1680 [15:53<00:00,  1.76it/s] \n"
     ]
    },
    {
     "name": "stdout",
     "output_type": "stream",
     "text": [
      "1675 images downloaded.\n",
      "- Kitchen: 1311 images found - "
     ]
    },
    {
     "name": "stderr",
     "output_type": "stream",
     "text": [
      " 62%|██████▏   | 814/1311 [02:57<02:06,  3.92it/s]/Users/louisguichard/anaconda3/envs/pictify_env/lib/python3.10/site-packages/PIL/TiffImagePlugin.py:866: UserWarning: Corrupt EXIF data.  Expecting to read 2 bytes but only got 0. \n",
      "  warnings.warn(str(msg))\n",
      "100%|██████████| 1311/1311 [05:12<00:00,  4.20it/s]\n"
     ]
    },
    {
     "name": "stdout",
     "output_type": "stream",
     "text": [
      "1310 images downloaded.\n",
      "- Kitchen stove: 585 images found - "
     ]
    },
    {
     "name": "stderr",
     "output_type": "stream",
     "text": [
      "100%|██████████| 585/585 [02:23<00:00,  4.08it/s]\n"
     ]
    },
    {
     "name": "stdout",
     "output_type": "stream",
     "text": [
      "585 images downloaded.\n",
      "- Kitchenware: 202 images found - "
     ]
    },
    {
     "name": "stderr",
     "output_type": "stream",
     "text": [
      "100%|██████████| 202/202 [00:53<00:00,  3.77it/s]\n"
     ]
    },
    {
     "name": "stdout",
     "output_type": "stream",
     "text": [
      "202 images downloaded.\n",
      "- Refrigerator: 1213 images found - "
     ]
    },
    {
     "name": "stderr",
     "output_type": "stream",
     "text": [
      "100%|██████████| 1213/1213 [04:40<00:00,  4.33it/s]\n"
     ]
    },
    {
     "name": "stdout",
     "output_type": "stream",
     "text": [
      "1211 images downloaded.\n",
      "\n",
      "¤ ¤ ¤ ¤ ¤ Class flight ¤ ¤ ¤ ¤ ¤\n",
      "- Airplane: 2383 images found - "
     ]
    },
    {
     "name": "stderr",
     "output_type": "stream",
     "text": [
      " 84%|████████▍ | 1688/2000 [11:01<02:10,  2.38it/s]/Users/louisguichard/anaconda3/envs/pictify_env/lib/python3.10/site-packages/PIL/Image.py:3157: DecompressionBombWarning: Image size (114585600 pixels) exceeds limit of 89478485 pixels, could be decompression bomb DOS attack.\n",
      "  warnings.warn(\n",
      "100%|██████████| 2000/2000 [13:14<00:00,  2.52it/s]\n"
     ]
    },
    {
     "name": "stdout",
     "output_type": "stream",
     "text": [
      "1999 images downloaded.\n",
      "- Airport: 721 images found - "
     ]
    },
    {
     "name": "stderr",
     "output_type": "stream",
     "text": [
      "100%|██████████| 721/721 [02:36<00:00,  4.61it/s]\n"
     ]
    },
    {
     "name": "stdout",
     "output_type": "stream",
     "text": [
      "720 images downloaded.\n",
      "\n",
      "¤ ¤ ¤ ¤ ¤ Class france ¤ ¤ ¤ ¤ ¤\n",
      "- Bread: 2561 images found - "
     ]
    },
    {
     "name": "stderr",
     "output_type": "stream",
     "text": [
      "100%|██████████| 2000/2000 [10:31<00:00,  3.17it/s]\n"
     ]
    },
    {
     "name": "stdout",
     "output_type": "stream",
     "text": [
      "1996 images downloaded.\n",
      "- Bakery: 608 images found - "
     ]
    },
    {
     "name": "stderr",
     "output_type": "stream",
     "text": [
      "100%|██████████| 608/608 [01:59<00:00,  5.08it/s]\n"
     ]
    },
    {
     "name": "stdout",
     "output_type": "stream",
     "text": [
      "606 images downloaded.\n",
      "\n",
      "¤ ¤ ¤ ¤ ¤ Class garden ¤ ¤ ¤ ¤ ¤\n",
      "- Garden: 918 images found - "
     ]
    },
    {
     "name": "stderr",
     "output_type": "stream",
     "text": [
      " 60%|██████    | 555/918 [02:20<00:54,  6.72it/s]/Users/louisguichard/anaconda3/envs/pictify_env/lib/python3.10/site-packages/PIL/Image.py:3157: DecompressionBombWarning: Image size (108381150 pixels) exceeds limit of 89478485 pixels, could be decompression bomb DOS attack.\n",
      "  warnings.warn(\n",
      "100%|██████████| 918/918 [03:48<00:00,  4.02it/s]\n"
     ]
    },
    {
     "name": "stdout",
     "output_type": "stream",
     "text": [
      "917 images downloaded.\n",
      "- Botanical garden: 564 images found - "
     ]
    },
    {
     "name": "stderr",
     "output_type": "stream",
     "text": [
      " 93%|█████████▎| 524/564 [02:33<00:11,  3.52it/s]/Users/louisguichard/anaconda3/envs/pictify_env/lib/python3.10/site-packages/PIL/Image.py:3157: DecompressionBombWarning: Image size (113898407 pixels) exceeds limit of 89478485 pixels, could be decompression bomb DOS attack.\n",
      "  warnings.warn(\n",
      "100%|██████████| 564/564 [02:44<00:00,  3.43it/s]\n"
     ]
    },
    {
     "name": "stdout",
     "output_type": "stream",
     "text": [
      "563 images downloaded.\n",
      "- Gardening: 321 images found - "
     ]
    },
    {
     "name": "stderr",
     "output_type": "stream",
     "text": [
      "100%|██████████| 321/321 [01:20<00:00,  4.00it/s]\n"
     ]
    },
    {
     "name": "stdout",
     "output_type": "stream",
     "text": [
      "321 images downloaded.\n",
      "- Gardener: 281 images found - "
     ]
    },
    {
     "name": "stderr",
     "output_type": "stream",
     "text": [
      "100%|██████████| 281/281 [01:18<00:00,  3.59it/s]\n"
     ]
    },
    {
     "name": "stdout",
     "output_type": "stream",
     "text": [
      "281 images downloaded.\n",
      "\n",
      "¤ ¤ ¤ ¤ ¤ Class gym ¤ ¤ ¤ ¤ ¤\n",
      "- Gym: 487 images found - "
     ]
    },
    {
     "name": "stderr",
     "output_type": "stream",
     "text": [
      "100%|██████████| 487/487 [04:04<00:00,  1.99it/s]\n"
     ]
    },
    {
     "name": "stdout",
     "output_type": "stream",
     "text": [
      "484 images downloaded.\n",
      "- Strength training: 551 images found - "
     ]
    },
    {
     "name": "stderr",
     "output_type": "stream",
     "text": [
      "100%|██████████| 551/551 [02:16<00:00,  4.03it/s]\n"
     ]
    },
    {
     "name": "stdout",
     "output_type": "stream",
     "text": [
      "549 images downloaded.\n",
      "- Weight training: 268 images found - "
     ]
    },
    {
     "name": "stderr",
     "output_type": "stream",
     "text": [
      "100%|██████████| 268/268 [00:58<00:00,  4.61it/s]\n"
     ]
    },
    {
     "name": "stdout",
     "output_type": "stream",
     "text": [
      "267 images downloaded.\n",
      "- Bodybuilding: 392 images found - "
     ]
    },
    {
     "name": "stderr",
     "output_type": "stream",
     "text": [
      "100%|██████████| 392/392 [01:23<00:00,  4.70it/s]\n"
     ]
    },
    {
     "name": "stdout",
     "output_type": "stream",
     "text": [
      "392 images downloaded.\n",
      "- Weights: 418 images found - "
     ]
    },
    {
     "name": "stderr",
     "output_type": "stream",
     "text": [
      "100%|██████████| 418/418 [01:37<00:00,  4.29it/s]\n"
     ]
    },
    {
     "name": "stdout",
     "output_type": "stream",
     "text": [
      "418 images downloaded.\n",
      "\n",
      "¤ ¤ ¤ ¤ ¤ Class hot ¤ ¤ ¤ ¤ ¤\n",
      "- Sex toy: 23 images found - "
     ]
    },
    {
     "name": "stderr",
     "output_type": "stream",
     "text": [
      "100%|██████████| 23/23 [00:05<00:00,  4.27it/s]\n"
     ]
    },
    {
     "name": "stdout",
     "output_type": "stream",
     "text": [
      "23 images downloaded.\n",
      "\n",
      "¤ ¤ ¤ ¤ ¤ Class italy ¤ ¤ ¤ ¤ ¤\n",
      "- Pizza: 1991 images found - "
     ]
    },
    {
     "name": "stderr",
     "output_type": "stream",
     "text": [
      "100%|██████████| 1991/1991 [07:16<00:00,  4.56it/s]\n"
     ]
    },
    {
     "name": "stdout",
     "output_type": "stream",
     "text": [
      "1991 images downloaded.\n",
      "- Pasta: 1051 images found - "
     ]
    },
    {
     "name": "stderr",
     "output_type": "stream",
     "text": [
      "100%|██████████| 1051/1051 [03:55<00:00,  4.47it/s]\n"
     ]
    },
    {
     "name": "stdout",
     "output_type": "stream",
     "text": [
      "1050 images downloaded.\n",
      "\n",
      "¤ ¤ ¤ ¤ ¤ Class japan ¤ ¤ ¤ ¤ ¤\n",
      "- Sushi: 1185 images found - "
     ]
    },
    {
     "name": "stderr",
     "output_type": "stream",
     "text": [
      "100%|██████████| 1185/1185 [04:23<00:00,  4.50it/s]\n"
     ]
    },
    {
     "name": "stdout",
     "output_type": "stream",
     "text": [
      "1184 images downloaded.\n",
      "- Japanese architecture: 582 images found - "
     ]
    },
    {
     "name": "stderr",
     "output_type": "stream",
     "text": [
      "100%|██████████| 582/582 [03:00<00:00,  3.22it/s]\n"
     ]
    },
    {
     "name": "stdout",
     "output_type": "stream",
     "text": [
      "582 images downloaded.\n",
      "\n",
      "¤ ¤ ¤ ¤ ¤ Class metro ¤ ¤ ¤ ¤ ¤\n",
      "- Metro: 470 images found - "
     ]
    },
    {
     "name": "stderr",
     "output_type": "stream",
     "text": [
      "100%|██████████| 470/470 [05:27<00:00,  1.43it/s]\n"
     ]
    },
    {
     "name": "stdout",
     "output_type": "stream",
     "text": [
      "470 images downloaded.\n",
      "- Metro station: 417 images found - "
     ]
    },
    {
     "name": "stderr",
     "output_type": "stream",
     "text": [
      "100%|██████████| 417/417 [03:17<00:00,  2.11it/s]\n"
     ]
    },
    {
     "name": "stdout",
     "output_type": "stream",
     "text": [
      "416 images downloaded.\n",
      "- Bus: 44458 images found - "
     ]
    },
    {
     "name": "stderr",
     "output_type": "stream",
     "text": [
      "100%|██████████| 2000/2000 [25:50<00:00,  1.29it/s]\n"
     ]
    },
    {
     "name": "stdout",
     "output_type": "stream",
     "text": [
      "1998 images downloaded.\n",
      "\n",
      "¤ ¤ ¤ ¤ ¤ Class movie ¤ ¤ ¤ ¤ ¤\n",
      "- Movie: 325 images found - "
     ]
    },
    {
     "name": "stderr",
     "output_type": "stream",
     "text": [
      "100%|██████████| 325/325 [00:50<00:00,  6.38it/s]\n"
     ]
    },
    {
     "name": "stdout",
     "output_type": "stream",
     "text": [
      "324 images downloaded.\n",
      "- Movie theater: 137 images found - "
     ]
    },
    {
     "name": "stderr",
     "output_type": "stream",
     "text": [
      "100%|██████████| 137/137 [00:30<00:00,  4.45it/s]\n"
     ]
    },
    {
     "name": "stdout",
     "output_type": "stream",
     "text": [
      "137 images downloaded.\n",
      "\n",
      "¤ ¤ ¤ ¤ ¤ Class nature ¤ ¤ ¤ ¤ ¤\n",
      "- Nature: 1635 images found - "
     ]
    },
    {
     "name": "stderr",
     "output_type": "stream",
     "text": [
      "100%|██████████| 1635/1635 [08:36<00:00,  3.17it/s]\n"
     ]
    },
    {
     "name": "stdout",
     "output_type": "stream",
     "text": [
      "1632 images downloaded.\n",
      "- Hiking: 64296 images found - "
     ]
    },
    {
     "name": "stderr",
     "output_type": "stream",
     "text": [
      "  8%|▊         | 164/2000 [02:36<27:04,  1.13it/s]/Users/louisguichard/anaconda3/envs/pictify_env/lib/python3.10/site-packages/PIL/TiffImagePlugin.py:866: UserWarning: Truncated File Read\n",
      "  warnings.warn(str(msg))\n",
      "100%|██████████| 2000/2000 [30:48<00:00,  1.08it/s]\n"
     ]
    },
    {
     "name": "stdout",
     "output_type": "stream",
     "text": [
      "2000 images downloaded.\n",
      "- Hiking equipment: 3256 images found - "
     ]
    },
    {
     "name": "stderr",
     "output_type": "stream",
     "text": [
      "100%|██████████| 2000/2000 [15:31<00:00,  2.15it/s]\n"
     ]
    },
    {
     "name": "stdout",
     "output_type": "stream",
     "text": [
      "1996 images downloaded.\n",
      "- Forest: 3034 images found - "
     ]
    },
    {
     "name": "stderr",
     "output_type": "stream",
     "text": [
      "100%|██████████| 2000/2000 [16:39<00:00,  2.00it/s]\n"
     ]
    },
    {
     "name": "stdout",
     "output_type": "stream",
     "text": [
      "1996 images downloaded.\n",
      "\n",
      "¤ ¤ ¤ ¤ ¤ Class party ¤ ¤ ¤ ¤ ¤\n",
      "- Party: 598 images found - "
     ]
    },
    {
     "name": "stderr",
     "output_type": "stream",
     "text": [
      "100%|██████████| 598/598 [02:03<00:00,  4.83it/s]\n"
     ]
    },
    {
     "name": "stdout",
     "output_type": "stream",
     "text": [
      "596 images downloaded.\n",
      "- Alcoholic beverage: 1147 images found - "
     ]
    },
    {
     "name": "stderr",
     "output_type": "stream",
     "text": [
      "100%|██████████| 1147/1147 [03:41<00:00,  5.18it/s]\n"
     ]
    },
    {
     "name": "stdout",
     "output_type": "stream",
     "text": [
      "1144 images downloaded.\n",
      "- Alcohol: 843 images found - "
     ]
    },
    {
     "name": "stderr",
     "output_type": "stream",
     "text": [
      "100%|██████████| 843/843 [02:31<00:00,  5.56it/s]\n"
     ]
    },
    {
     "name": "stdout",
     "output_type": "stream",
     "text": [
      "838 images downloaded.\n",
      "- Bar: 766 images found - "
     ]
    },
    {
     "name": "stderr",
     "output_type": "stream",
     "text": [
      "100%|██████████| 766/766 [02:39<00:00,  4.81it/s]\n"
     ]
    },
    {
     "name": "stdout",
     "output_type": "stream",
     "text": [
      "763 images downloaded.\n",
      "\n",
      "¤ ¤ ¤ ¤ ¤ Class piano ¤ ¤ ¤ ¤ ¤\n",
      "- Piano: 12320 images found - "
     ]
    },
    {
     "name": "stderr",
     "output_type": "stream",
     "text": [
      "100%|██████████| 2000/2000 [21:25<00:00,  1.56it/s]\n"
     ]
    },
    {
     "name": "stdout",
     "output_type": "stream",
     "text": [
      "1996 images downloaded.\n",
      "- Sheet music: 357 images found - "
     ]
    },
    {
     "name": "stderr",
     "output_type": "stream",
     "text": [
      "100%|██████████| 357/357 [01:16<00:00,  4.67it/s]\n"
     ]
    },
    {
     "name": "stdout",
     "output_type": "stream",
     "text": [
      "356 images downloaded.\n",
      "\n",
      "¤ ¤ ¤ ¤ ¤ Class pool ¤ ¤ ¤ ¤ ¤\n",
      "- Swimming pool: 5122 images found - "
     ]
    },
    {
     "name": "stderr",
     "output_type": "stream",
     "text": [
      "100%|██████████| 2000/2000 [17:02<00:00,  1.96it/s]\n"
     ]
    },
    {
     "name": "stdout",
     "output_type": "stream",
     "text": [
      "1994 images downloaded.\n",
      "- Swimming: 33876 images found - "
     ]
    },
    {
     "name": "stderr",
     "output_type": "stream",
     "text": [
      "100%|██████████| 2000/2000 [22:11<00:00,  1.50it/s]\n"
     ]
    },
    {
     "name": "stdout",
     "output_type": "stream",
     "text": [
      "1996 images downloaded.\n",
      "- Swimwear: 3773 images found - "
     ]
    },
    {
     "name": "stderr",
     "output_type": "stream",
     "text": [
      "100%|██████████| 2000/2000 [12:57<00:00,  2.57it/s]\n"
     ]
    },
    {
     "name": "stdout",
     "output_type": "stream",
     "text": [
      "1996 images downloaded.\n",
      "\n",
      "¤ ¤ ¤ ¤ ¤ Class rainy ¤ ¤ ¤ ¤ ¤\n",
      "- Rain: 520 images found - "
     ]
    },
    {
     "name": "stderr",
     "output_type": "stream",
     "text": [
      "100%|██████████| 520/520 [01:49<00:00,  4.73it/s]\n"
     ]
    },
    {
     "name": "stdout",
     "output_type": "stream",
     "text": [
      "519 images downloaded.\n",
      "\n",
      "¤ ¤ ¤ ¤ ¤ Class reading ¤ ¤ ¤ ¤ ¤\n",
      "- Book: 74809 images found - "
     ]
    },
    {
     "name": "stderr",
     "output_type": "stream",
     "text": [
      "  9%|▊         | 171/2000 [02:20<32:30,  1.07s/it]/Users/louisguichard/anaconda3/envs/pictify_env/lib/python3.10/site-packages/PIL/Image.py:3157: DecompressionBombWarning: Image size (96873840 pixels) exceeds limit of 89478485 pixels, could be decompression bomb DOS attack.\n",
      "  warnings.warn(\n",
      " 17%|█▋        | 333/2000 [04:47<26:06,  1.06it/s]/Users/louisguichard/anaconda3/envs/pictify_env/lib/python3.10/site-packages/PIL/Image.py:3157: DecompressionBombWarning: Image size (95815872 pixels) exceeds limit of 89478485 pixels, could be decompression bomb DOS attack.\n",
      "  warnings.warn(\n",
      " 17%|█▋        | 338/2000 [04:53<23:20,  1.19it/s]/Users/louisguichard/anaconda3/envs/pictify_env/lib/python3.10/site-packages/PIL/Image.py:3157: DecompressionBombWarning: Image size (95895360 pixels) exceeds limit of 89478485 pixels, could be decompression bomb DOS attack.\n",
      "  warnings.warn(\n",
      " 52%|█████▏    | 1030/2000 [13:48<14:38,  1.10it/s]/Users/louisguichard/anaconda3/envs/pictify_env/lib/python3.10/site-packages/PIL/Image.py:3157: DecompressionBombWarning: Image size (93016000 pixels) exceeds limit of 89478485 pixels, could be decompression bomb DOS attack.\n",
      "  warnings.warn(\n",
      " 62%|██████▏   | 1239/2000 [16:09<05:58,  2.12it/s]/Users/louisguichard/anaconda3/envs/pictify_env/lib/python3.10/site-packages/PIL/Image.py:3157: DecompressionBombWarning: Image size (95178800 pixels) exceeds limit of 89478485 pixels, could be decompression bomb DOS attack.\n",
      "  warnings.warn(\n",
      " 64%|██████▍   | 1276/2000 [16:36<10:09,  1.19it/s]/Users/louisguichard/anaconda3/envs/pictify_env/lib/python3.10/site-packages/PIL/Image.py:3157: DecompressionBombWarning: Image size (126406335 pixels) exceeds limit of 89478485 pixels, could be decompression bomb DOS attack.\n",
      "  warnings.warn(\n",
      " 83%|████████▎ | 1653/2000 [20:55<02:30,  2.31it/s]/Users/louisguichard/anaconda3/envs/pictify_env/lib/python3.10/site-packages/PIL/Image.py:3157: DecompressionBombWarning: Image size (94305600 pixels) exceeds limit of 89478485 pixels, could be decompression bomb DOS attack.\n",
      "  warnings.warn(\n",
      "100%|██████████| 2000/2000 [24:42<00:00,  1.35it/s]\n"
     ]
    },
    {
     "name": "stdout",
     "output_type": "stream",
     "text": [
      "1997 images downloaded.\n",
      "- E-book readers: 337 images found - "
     ]
    },
    {
     "name": "stderr",
     "output_type": "stream",
     "text": [
      "100%|██████████| 337/337 [01:05<00:00,  5.14it/s]\n"
     ]
    },
    {
     "name": "stdout",
     "output_type": "stream",
     "text": [
      "337 images downloaded.\n",
      "- Library: 539 images found - "
     ]
    },
    {
     "name": "stderr",
     "output_type": "stream",
     "text": [
      "100%|██████████| 539/539 [02:12<00:00,  4.08it/s]\n"
     ]
    },
    {
     "name": "stdout",
     "output_type": "stream",
     "text": [
      "538 images downloaded.\n",
      "- Magazine: 620 images found - "
     ]
    },
    {
     "name": "stderr",
     "output_type": "stream",
     "text": [
      " 85%|████████▍ | 524/620 [01:51<00:17,  5.43it/s]/Users/louisguichard/anaconda3/envs/pictify_env/lib/python3.10/site-packages/PIL/Image.py:3157: DecompressionBombWarning: Image size (134758800 pixels) exceeds limit of 89478485 pixels, could be decompression bomb DOS attack.\n",
      "  warnings.warn(\n",
      "100%|██████████| 620/620 [02:11<00:00,  4.70it/s]\n"
     ]
    },
    {
     "name": "stdout",
     "output_type": "stream",
     "text": [
      "620 images downloaded.\n",
      "\n",
      "¤ ¤ ¤ ¤ ¤ Class running ¤ ¤ ¤ ¤ ¤\n",
      "- Long-distance running: 1286 images found - "
     ]
    },
    {
     "name": "stderr",
     "output_type": "stream",
     "text": [
      "100%|██████████| 1286/1286 [07:47<00:00,  2.75it/s]\n"
     ]
    },
    {
     "name": "stdout",
     "output_type": "stream",
     "text": [
      "1285 images downloaded.\n",
      "- Running: 1150 images found - "
     ]
    },
    {
     "name": "stderr",
     "output_type": "stream",
     "text": [
      "100%|██████████| 1150/1150 [05:14<00:00,  3.66it/s]\n"
     ]
    },
    {
     "name": "stdout",
     "output_type": "stream",
     "text": [
      "1147 images downloaded.\n",
      "- Jogging: 351 images found - "
     ]
    },
    {
     "name": "stderr",
     "output_type": "stream",
     "text": [
      "100%|██████████| 351/351 [01:29<00:00,  3.91it/s]\n"
     ]
    },
    {
     "name": "stdout",
     "output_type": "stream",
     "text": [
      "351 images downloaded.\n",
      "- Running shoe: 518 images found - "
     ]
    },
    {
     "name": "stderr",
     "output_type": "stream",
     "text": [
      "100%|██████████| 518/518 [01:48<00:00,  4.77it/s]\n"
     ]
    },
    {
     "name": "stdout",
     "output_type": "stream",
     "text": [
      "518 images downloaded.\n",
      "\n",
      "¤ ¤ ¤ ¤ ¤ Class sport ¤ ¤ ¤ ¤ ¤\n",
      "- Sports equipment: 41369 images found - "
     ]
    },
    {
     "name": "stderr",
     "output_type": "stream",
     "text": [
      "100%|██████████| 2000/2000 [23:31<00:00,  1.42it/s]\n"
     ]
    },
    {
     "name": "stdout",
     "output_type": "stream",
     "text": [
      "1998 images downloaded.\n",
      "- Sports: 1001 images found - "
     ]
    },
    {
     "name": "stderr",
     "output_type": "stream",
     "text": [
      "100%|██████████| 1001/1001 [04:02<00:00,  4.12it/s]\n"
     ]
    },
    {
     "name": "stdout",
     "output_type": "stream",
     "text": [
      "1000 images downloaded.\n",
      "\n",
      "¤ ¤ ¤ ¤ ¤ Class train ¤ ¤ ¤ ¤ ¤\n",
      "- Train: 53673 images found - "
     ]
    },
    {
     "name": "stderr",
     "output_type": "stream",
     "text": [
      "100%|██████████| 2000/2000 [24:08<00:00,  1.38it/s]\n"
     ]
    },
    {
     "name": "stdout",
     "output_type": "stream",
     "text": [
      "1994 images downloaded.\n",
      "- Train station: 669 images found - "
     ]
    },
    {
     "name": "stderr",
     "output_type": "stream",
     "text": [
      "100%|██████████| 669/669 [02:31<00:00,  4.41it/s]\n"
     ]
    },
    {
     "name": "stdout",
     "output_type": "stream",
     "text": [
      "668 images downloaded.\n",
      "\n",
      "¤ ¤ ¤ ¤ ¤ Class traveling ¤ ¤ ¤ ¤ ¤\n",
      "- Travel: 1261 images found - "
     ]
    },
    {
     "name": "stderr",
     "output_type": "stream",
     "text": [
      "100%|██████████| 1261/1261 [04:21<00:00,  4.83it/s]\n"
     ]
    },
    {
     "name": "stdout",
     "output_type": "stream",
     "text": [
      "1259 images downloaded.\n",
      "- Luggage and bags: 2689 images found - "
     ]
    },
    {
     "name": "stderr",
     "output_type": "stream",
     "text": [
      "100%|██████████| 2000/2000 [11:36<00:00,  2.87it/s]\n"
     ]
    },
    {
     "name": "stdout",
     "output_type": "stream",
     "text": [
      "1997 images downloaded.\n",
      "\n",
      "¤ ¤ ¤ ¤ ¤ Class working ¤ ¤ ¤ ¤ ¤\n",
      "- Job: 1163 images found - "
     ]
    },
    {
     "name": "stderr",
     "output_type": "stream",
     "text": [
      "100%|██████████| 1163/1163 [05:28<00:00,  3.54it/s]\n"
     ]
    },
    {
     "name": "stdout",
     "output_type": "stream",
     "text": [
      "1161 images downloaded.\n",
      "- Office supplies: 2570 images found - "
     ]
    },
    {
     "name": "stderr",
     "output_type": "stream",
     "text": [
      "100%|██████████| 2000/2000 [10:54<00:00,  3.06it/s]\n"
     ]
    },
    {
     "name": "stdout",
     "output_type": "stream",
     "text": [
      "1996 images downloaded.\n",
      "- Office equipment: 1070 images found - "
     ]
    },
    {
     "name": "stderr",
     "output_type": "stream",
     "text": [
      "100%|██████████| 1070/1070 [03:30<00:00,  5.08it/s]\n"
     ]
    },
    {
     "name": "stdout",
     "output_type": "stream",
     "text": [
      "1068 images downloaded.\n",
      "- White-collar worker: 883 images found - "
     ]
    },
    {
     "name": "stderr",
     "output_type": "stream",
     "text": [
      "100%|██████████| 883/883 [03:15<00:00,  4.53it/s]\n"
     ]
    },
    {
     "name": "stdout",
     "output_type": "stream",
     "text": [
      "882 images downloaded.\n",
      "- Computer: 119034 images found - "
     ]
    },
    {
     "name": "stderr",
     "output_type": "stream",
     "text": [
      "100%|██████████| 2000/2000 [23:42<00:00,  1.41it/s]"
     ]
    },
    {
     "name": "stdout",
     "output_type": "stream",
     "text": [
      "1998 images downloaded.\n"
     ]
    },
    {
     "name": "stderr",
     "output_type": "stream",
     "text": [
      "\n"
     ]
    }
   ],
   "source": [
    "# Very long!\n",
    "for category in keywords:\n",
    "    \n",
    "    print(f\"\\n¤ ¤ ¤ ¤ ¤ Class {category} ¤ ¤ ¤ ¤ ¤\")\n",
    "    \n",
    "    # Creates category folder\n",
    "    category_path = f\"../../data/open_images/{category}/\"\n",
    "    if not os.path.exists(category_path):\n",
    "        os.makedirs(category_path)\n",
    "    \n",
    "    for keyword in keywords[category]:\n",
    "        download_images_with_label(\n",
    "            label=keyword,\n",
    "            limit=2000,\n",
    "            destination=category_path\n",
    "        )"
   ]
  }
 ],
 "metadata": {
  "kernelspec": {
   "display_name": "pictify_env",
   "language": "python",
   "name": "python3"
  },
  "language_info": {
   "codemirror_mode": {
    "name": "ipython",
    "version": 3
   },
   "file_extension": ".py",
   "mimetype": "text/x-python",
   "name": "python",
   "nbconvert_exporter": "python",
   "pygments_lexer": "ipython3",
   "version": "3.10.12"
  },
  "orig_nbformat": 4
 },
 "nbformat": 4,
 "nbformat_minor": 2
}
